{
 "cells": [
  {
   "cell_type": "code",
   "execution_count": 1,
   "metadata": {},
   "outputs": [],
   "source": [
    "from pseudo_sampler.eps import EPS\n",
    "import numpy as np\n",
    "import tensorflow as tf\n",
    "%load_ext autoreload\n",
    "%autoreload 2"
   ]
  },
  {
   "source": [
    "### Loading the data"
   ],
   "cell_type": "markdown",
   "metadata": {}
  },
  {
   "cell_type": "code",
   "execution_count": 28,
   "metadata": {},
   "outputs": [],
   "source": [
    "dataset = np.load('/Users/Roohy/Downloads/Dataset/np_format.npy')\n",
    "labels = dataset[:,-1]\n",
    "data = dataset[:,:-1]"
   ]
  },
  {
   "source": [
    "### Training the VAE"
   ],
   "cell_type": "markdown",
   "metadata": {}
  },
  {
   "cell_type": "code",
   "execution_count": null,
   "metadata": {},
   "outputs": [],
   "source": [
    "eps = EPS()\n",
    "eps.train(data,labels,vae_epochs=50,\n",
    "        learning_rate=1e-4, batch_size = 100,VAE_activation=tf.nn.relu,\n",
    "        normalize=True,vae_address='./vae_mode.ckpt',layers = [120,30])"
   ]
  },
  {
   "source": [
    "### Generating Psuedo-Samples"
   ],
   "cell_type": "markdown",
   "metadata": {}
  },
  {
   "cell_type": "code",
   "execution_count": 31,
   "metadata": {},
   "outputs": [
    {
     "output_type": "stream",
     "name": "stdout",
     "text": [
      "TRAINIG LATENT SPACE REGRESSOR:\n",
      "[Epoch 0] Loss: 0.6931468844413757\n",
      "[Epoch 5] Loss: 0.6893616318702698\n",
      "[Epoch 5] Loss: 0.6884178519248962\n",
      "[Epoch 10] Loss: 0.6852220296859741\n",
      "[Epoch 10] Loss: 0.6838008761405945\n",
      "[Epoch 15] Loss: 0.6823610663414001\n",
      "[Epoch 15] Loss: 0.678076982498169\n",
      "[Epoch 20] Loss: 0.6653310060501099\n",
      "[Epoch 20] Loss: 0.6738675832748413\n",
      "[Epoch 25] Loss: 0.6730455756187439\n",
      "[Epoch 25] Loss: 0.6707671284675598\n",
      "[Epoch 30] Loss: 0.6713170409202576\n",
      "[Epoch 30] Loss: 0.6664867401123047\n",
      "[Epoch 35] Loss: 0.6535728573799133\n",
      "[Epoch 35] Loss: 0.6620897054672241\n",
      "[Epoch 40] Loss: 0.6567773818969727\n",
      "[Epoch 40] Loss: 0.6579424142837524\n",
      "[Epoch 45] Loss: 0.6482083797454834\n",
      "[Epoch 45] Loss: 0.6563618183135986\n",
      "[Epoch 50] Loss: 0.6449485421180725\n",
      "Latent Regressor Accuracy is : 0.7613941018766756\n",
      "INFO:tensorflow:Restoring parameters from ./vae_mode.ckpt\n"
     ]
    }
   ],
   "source": [
    "generated = eps.generate(50,regression_epochs=50,learning_rate=1e-4,regression_index=None,variance=0.2,seed_count=1)"
   ]
  },
  {
   "source": [
    "### Extracting the Ranking"
   ],
   "cell_type": "markdown",
   "metadata": {}
  },
  {
   "cell_type": "code",
   "execution_count": 32,
   "metadata": {},
   "outputs": [
    {
     "output_type": "stream",
     "name": "stdout",
     "text": [
      "TRAINIG LATENT SPACE REGRESSOR:\n",
      "[Epoch 5] Loss: 0.6929291486740112\n",
      "[Epoch 10] Loss: 0.6926639080047607\n",
      "[Epoch 15] Loss: 0.6924053430557251\n",
      "[Epoch 20] Loss: 0.6921544075012207\n",
      "[Epoch 25] Loss: 0.6919116377830505\n",
      "[Epoch 30] Loss: 0.691676914691925\n",
      "[Epoch 35] Loss: 0.691450834274292\n",
      "[Epoch 40] Loss: 0.6912329196929932\n",
      "[Epoch 45] Loss: 0.6910232305526733\n",
      "[Epoch 50] Loss: 0.6908217072486877\n",
      "Latent Regressor Accuracy is : 0.53\n"
     ]
    }
   ],
   "source": [
    "ranks = eps.rank()"
   ]
  },
  {
   "cell_type": "code",
   "execution_count": 26,
   "metadata": {},
   "outputs": [
    {
     "output_type": "execute_result",
     "data": {
      "text/plain": [
       "array([464, 356, 364, 241, 221, 338,  83, 133,  80, 402, 100, 128, 176,\n",
       "       264, 253, 381, 386, 355, 408, 394, 461, 351, 314, 485, 197, 487,\n",
       "       389, 156, 148,  21, 336, 502, 331, 111, 501, 362, 209, 316, 297,\n",
       "        74, 509, 520, 524, 322, 525, 522, 435, 123, 401, 512, 521, 369,\n",
       "       344, 451, 275, 511, 367, 523, 155, 530, 346, 528, 370, 244, 424,\n",
       "       319, 174, 400, 506, 432, 479, 508, 353, 311, 417, 285, 384, 497,\n",
       "       136, 454, 326, 425, 441, 160, 440, 442, 281, 516, 218, 366, 333,\n",
       "       307,  94, 387, 426, 405, 419, 271,  75, 365, 438, 445, 413, 256,\n",
       "       410, 428,  20, 467,  66,  81, 196, 113,  33, 492, 332,  77, 235,\n",
       "        64, 247, 295, 116,  60, 374, 327,  36, 252,  58, 138, 291, 478,\n",
       "       480, 284, 460, 243, 142, 504, 293, 199, 228, 518, 121, 173, 216,\n",
       "       418, 178, 328, 273,  78,  87, 321,  28, 352, 360, 468,  56, 444,\n",
       "       203, 349, 236,   4, 185, 304,   8, 452,  13,  89, 181, 298, 261,\n",
       "       167, 507, 191, 498,  72,  91, 312,  23, 192, 220, 357,  14, 421,\n",
       "       305, 223, 263, 279, 299, 456, 188,  49, 341, 251, 205, 406, 458,\n",
       "       482,  19, 382, 210, 254, 222, 101,  35, 171, 230, 277, 139, 329,\n",
       "       436,  88, 439, 115, 172, 411, 289, 183, 149, 186, 423, 383, 422,\n",
       "       486,  52, 147, 134, 237, 473, 368, 229,  62, 130, 117, 308, 108,\n",
       "       259, 283, 515, 301, 269, 465, 392,  54, 484, 202, 391, 110, 448,\n",
       "       292, 495, 189, 377, 510, 234, 466, 407, 272, 416, 143, 443, 337,\n",
       "       105, 177, 201, 150,  10, 433,  71, 124, 245, 175, 217, 477, 290,\n",
       "        39,  65, 398, 318, 483, 152,  31,  24,  12,  29,  46, 363, 303,\n",
       "        27, 257,  34, 335, 404, 469,  73, 325, 380,  99, 204, 249, 470,\n",
       "       429, 286, 340, 118, 119, 354,  47,  32, 315, 144, 122,  40, 513,\n",
       "       151, 472, 309, 488, 153, 430, 226, 180, 450, 165, 195,  25, 159,\n",
       "       187,  22, 505,  69, 242, 323, 125, 270, 258, 131,  55,  38, 126,\n",
       "       499, 287, 361,  18, 239, 246, 163, 527, 372, 215, 300, 500, 265,\n",
       "       208, 390,  17,  86, 526, 250, 262, 343,  43, 145, 379, 127, 114,\n",
       "       274,  97, 146, 266, 267, 463,  48, 414, 493,  67, 260, 211, 225,\n",
       "        45, 529, 397, 490,  16,  93, 190, 347, 517, 169, 164, 313, 276,\n",
       "        68, 447, 475, 184,   2, 514, 135,  70, 240, 214, 471, 376, 481,\n",
       "       342, 373, 182, 288, 294, 166, 358,  98,  41, 317, 161, 132, 324,\n",
       "       194, 129, 158, 375,  53, 449, 232, 350, 393, 496, 359, 455,  90,\n",
       "       193,  51,  96, 141, 310, 157, 396,   9, 137,  50, 494, 179, 140,\n",
       "       371, 104, 248, 154, 233, 503,  63, 453,   0, 212,  37, 491, 339,\n",
       "       278, 446,  42, 348, 431, 334, 457,  44, 415, 213,   6, 207,  82,\n",
       "       378,  15, 296, 420,  59, 238, 409, 399,  76,   3, 403, 280,  95,\n",
       "       489, 106, 219, 306,  57, 474, 107, 320, 103, 459, 112, 395,   7,\n",
       "       385, 198, 224, 476, 427, 437, 268, 227,  11, 462, 168,  30, 231,\n",
       "       109, 388,  92, 200,  85, 434, 102,  79, 519, 345,  61, 162, 302,\n",
       "         1, 282,  26, 412, 206, 255, 330,   5, 120, 170,  84])"
      ]
     },
     "metadata": {},
     "execution_count": 26
    }
   ],
   "source": [
    "ranks"
   ]
  },
  {
   "cell_type": "code",
   "execution_count": null,
   "metadata": {},
   "outputs": [],
   "source": []
  }
 ],
 "metadata": {
  "kernelspec": {
   "display_name": "Python 3",
   "language": "python",
   "name": "python3"
  },
  "language_info": {
   "codemirror_mode": {
    "name": "ipython",
    "version": 3
   },
   "file_extension": ".py",
   "mimetype": "text/x-python",
   "name": "python",
   "nbconvert_exporter": "python",
   "pygments_lexer": "ipython3",
   "version": "3.7.3-final"
  }
 },
 "nbformat": 4,
 "nbformat_minor": 2
}