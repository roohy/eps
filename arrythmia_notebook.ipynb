{
 "cells": [
  {
   "cell_type": "code",
   "execution_count": 1,
   "metadata": {},
   "outputs": [
    {
     "output_type": "stream",
     "name": "stderr",
     "text": [
      " "
     ]
    }
   ],
   "source": [
    "from pseudo_sampler.eps import EPS\n",
    "import tensorflow as tf\n",
    "import time\n",
    "import numpy as np\n",
    "%load_ext autoreload\n",
    "%autoreload 2"
   ]
  },
  {
   "source": [
    "### Loading the data\n",
    "We use the Arrhythmia dataset from UCI that can be accessed here: https://archive.ics.uci.edu/ml/datasets/Arrhythmia"
   ],
   "cell_type": "markdown",
   "metadata": {}
  },
  {
   "cell_type": "code",
   "execution_count": 2,
   "metadata": {},
   "outputs": [],
   "source": [
    "\n",
    "dataset = np.load('./arrhythmia.npy')\n",
    "labels = dataset[:,-1]\n",
    "data = dataset[:,:-1]"
   ]
  },
  {
   "source": [
    "### Training the VAE"
   ],
   "cell_type": "markdown",
   "metadata": {}
  },
  {
   "cell_type": "code",
   "execution_count": 5,
   "metadata": {},
   "outputs": [
    {
     "output_type": "stream",
     "name": "stdout",
     "text": [
      "TRAINING VARIATIONAL:\n",
      "3.475415947000002\n"
     ]
    }
   ],
   "source": [
    "eps = EPS()\n",
    "tic = time.perf_counter()\n",
    "loss_list = eps.train(data,labels,vae_epochs=100,\n",
    "        learning_rate=1e-4, batch_size = 50,VAE_activation=tf.nn.relu,\n",
    "        normalize=True,vae_address='./vae_mode.ckpt',layers = [150,25])\n",
    "toc = time.perf_counter()\n",
    "print(toc-tic)"
   ]
  },
  {
   "source": [
    "### Generating Psuedo-Samples"
   ],
   "cell_type": "markdown",
   "metadata": {}
  },
  {
   "cell_type": "code",
   "execution_count": 7,
   "metadata": {},
   "outputs": [
    {
     "output_type": "stream",
     "name": "stdout",
     "text": [
      "TRAINIG LATENT SPACE REGRESSOR:\n",
      "[Epoch 5] Loss: 0.6922048926353455\n",
      "[Epoch 10] Loss: 0.6910366415977478\n",
      "[Epoch 15] Loss: 0.6898797154426575\n",
      "[Epoch 20] Loss: 0.6887348890304565\n",
      "[Epoch 25] Loss: 0.6876026391983032\n",
      "[Epoch 30] Loss: 0.6864833831787109\n",
      "[Epoch 35] Loss: 0.6853771209716797\n",
      "[Epoch 40] Loss: 0.6842840909957886\n",
      "[Epoch 45] Loss: 0.6832043528556824\n",
      "[Epoch 50] Loss: 0.6821377873420715\n",
      "[Epoch 55] Loss: 0.681084156036377\n",
      "[Epoch 60] Loss: 0.6800432801246643\n",
      "[Epoch 65] Loss: 0.6790148615837097\n",
      "[Epoch 70] Loss: 0.6779988408088684\n",
      "[Epoch 75] Loss: 0.6769948601722717\n",
      "[Epoch 80] Loss: 0.676002562046051\n",
      "[Epoch 85] Loss: 0.6750217080116272\n",
      "[Epoch 90] Loss: 0.6740521788597107\n",
      "[Epoch 95] Loss: 0.6730933785438538\n",
      "[Epoch 100] Loss: 0.6721453666687012\n",
      "[Epoch 105] Loss: 0.671207845211029\n",
      "[Epoch 110] Loss: 0.6702804565429688\n",
      "[Epoch 115] Loss: 0.6693631410598755\n",
      "[Epoch 120] Loss: 0.6684556603431702\n",
      "[Epoch 125] Loss: 0.6675578951835632\n",
      "[Epoch 130] Loss: 0.666669487953186\n",
      "[Epoch 135] Loss: 0.6657905578613281\n",
      "[Epoch 140] Loss: 0.6649207472801208\n",
      "[Epoch 145] Loss: 0.6640600562095642\n",
      "[Epoch 150] Loss: 0.6632083058357239\n",
      "Latent Regressor Accuracy is : 0.7058823529411765\n",
      "INFO:tensorflow:Restoring parameters from ./vae_mode.ckpt\n"
     ]
    }
   ],
   "source": [
    "generated = eps.generate(50,regression_epochs=150,learning_rate=1e-4,regression_index=None,variance=0.2,seed_count=1)"
   ]
  },
  {
   "source": [
    "### Extracting the Ranking"
   ],
   "cell_type": "markdown",
   "metadata": {}
  },
  {
   "cell_type": "code",
   "execution_count": 8,
   "metadata": {},
   "outputs": [
    {
     "output_type": "stream",
     "name": "stdout",
     "text": [
      "TRAINIG LATENT SPACE REGRESSOR:\n",
      "[Epoch 5] Loss: 0.6930901408195496\n",
      "[Epoch 10] Loss: 0.6930188536643982\n",
      "[Epoch 15] Loss: 0.6929476857185364\n",
      "[Epoch 20] Loss: 0.6928765773773193\n",
      "[Epoch 25] Loss: 0.6928057670593262\n",
      "[Epoch 30] Loss: 0.6927350759506226\n",
      "[Epoch 35] Loss: 0.692664384841919\n",
      "[Epoch 40] Loss: 0.6925939917564392\n",
      "[Epoch 45] Loss: 0.6925237774848938\n",
      "[Epoch 50] Loss: 0.6924536228179932\n",
      "[Epoch 55] Loss: 0.6923837065696716\n",
      "[Epoch 60] Loss: 0.6923139095306396\n",
      "[Epoch 65] Loss: 0.6922443509101868\n",
      "[Epoch 70] Loss: 0.6921748518943787\n",
      "[Epoch 75] Loss: 0.6921056509017944\n",
      "[Epoch 80] Loss: 0.6920364499092102\n",
      "[Epoch 85] Loss: 0.6919673681259155\n",
      "[Epoch 90] Loss: 0.6918985843658447\n",
      "[Epoch 95] Loss: 0.6918299198150635\n",
      "[Epoch 100] Loss: 0.691761314868927\n",
      "[Epoch 105] Loss: 0.6916929483413696\n",
      "[Epoch 110] Loss: 0.6916245818138123\n",
      "[Epoch 115] Loss: 0.691556453704834\n",
      "[Epoch 120] Loss: 0.69148850440979\n",
      "[Epoch 125] Loss: 0.6914206147193909\n",
      "[Epoch 130] Loss: 0.6913528442382812\n",
      "[Epoch 135] Loss: 0.691285252571106\n",
      "[Epoch 140] Loss: 0.6912177205085754\n",
      "[Epoch 145] Loss: 0.6911503672599792\n",
      "[Epoch 150] Loss: 0.6910831928253174\n",
      "Latent Regressor Accuracy is : 0.57\n"
     ]
    }
   ],
   "source": [
    "ranks = eps.rank()"
   ]
  },
  {
   "cell_type": "code",
   "execution_count": 9,
   "metadata": {},
   "outputs": [
    {
     "output_type": "execute_result",
     "data": {
      "text/plain": [
       "array([108,  18, 142,  50, 117,  24,  84, 100,  33, 145, 164,  19, 123,\n",
       "       106,  35, 203,  82,  49, 118, 193, 102,  37, 157,  72,  96, 204,\n",
       "       252, 264,  65,  41, 184,  53,   2,  29,  46, 239, 139,  79, 132,\n",
       "        93, 208, 255,  68,  67,  51, 135, 165, 262, 226, 243, 159,   9,\n",
       "       150,  40,  97, 209, 163, 161, 202, 207, 259, 119, 245, 167, 235,\n",
       "       173,  88, 228, 114,   7, 258,  59, 179, 225, 265, 196,   5, 112,\n",
       "       269, 232,   6, 237, 169, 125,  80,  32, 266, 140, 113, 216, 104,\n",
       "       247, 211, 195, 236,  89,  12, 215, 197, 137, 188,  28, 185,  39,\n",
       "       241,  77, 206, 171,   1,  10, 250, 175, 242, 222,  20, 210, 229,\n",
       "       149, 248,   8, 182, 128,  74, 101, 218, 124,  30, 198, 180,  98,\n",
       "       178, 227,  92, 176, 268, 267,  44, 181, 168, 271, 275, 244,  52,\n",
       "       233, 146, 177, 276, 277, 200, 154, 238, 251, 151, 263,  34, 109,\n",
       "       261,   4, 205, 143, 133, 148,  15,  56, 131, 220,  71, 201,  94,\n",
       "       156,  43,  48,  83, 186,  64,  95,  90, 107, 170, 213, 214, 230,\n",
       "         3, 153,  60,  45, 127, 234,  76, 166,  70, 278, 254, 134,   0,\n",
       "       217, 249, 183, 141, 155,  75, 273, 272,  61,  23, 130, 240, 219,\n",
       "        58, 270, 162, 257, 111, 158, 122,  11,  42, 212, 115, 191,  47,\n",
       "       190,  54,  27,  86, 223,  21, 110, 260,  17, 144, 221,  22,  26,\n",
       "       246, 105,  87, 253,  38, 136, 126, 120,  16,  57,  55, 194,  31,\n",
       "        62, 152,  69, 192,  85, 189, 121,  81, 224, 174,  73, 116,  78,\n",
       "        25, 129,  36,  14,  66,  99, 138,  91, 160, 103, 187,  63, 172,\n",
       "       147, 274, 256, 199,  13, 231])"
      ]
     },
     "metadata": {},
     "execution_count": 9
    }
   ],
   "source": [
    "ranks"
   ]
  },
  {
   "source": [
    "## Training VAE with more seeds to decrease bias"
   ],
   "cell_type": "markdown",
   "metadata": {}
  },
  {
   "cell_type": "code",
   "execution_count": 10,
   "metadata": {},
   "outputs": [
    {
     "output_type": "stream",
     "name": "stdout",
     "text": [
      "TRAINIG LATENT SPACE REGRESSOR:\n",
      "[Epoch 5] Loss: 0.6922048926353455\n",
      "[Epoch 10] Loss: 0.691036581993103\n",
      "[Epoch 15] Loss: 0.6898797154426575\n",
      "[Epoch 20] Loss: 0.6887349486351013\n",
      "[Epoch 25] Loss: 0.6876026391983032\n",
      "[Epoch 30] Loss: 0.6864832639694214\n",
      "[Epoch 35] Loss: 0.6853771209716797\n",
      "[Epoch 40] Loss: 0.6842840909957886\n",
      "[Epoch 45] Loss: 0.6832044124603271\n",
      "[Epoch 50] Loss: 0.6821377873420715\n",
      "[Epoch 55] Loss: 0.681084156036377\n",
      "[Epoch 60] Loss: 0.6800432801246643\n",
      "[Epoch 65] Loss: 0.6790148615837097\n",
      "[Epoch 70] Loss: 0.6779988408088684\n",
      "[Epoch 75] Loss: 0.6769948601722717\n",
      "[Epoch 80] Loss: 0.6760026216506958\n",
      "[Epoch 85] Loss: 0.675021767616272\n",
      "[Epoch 90] Loss: 0.6740521192550659\n",
      "[Epoch 95] Loss: 0.6730933785438538\n",
      "[Epoch 100] Loss: 0.6721453666687012\n",
      "[Epoch 105] Loss: 0.671207845211029\n",
      "[Epoch 110] Loss: 0.6702804565429688\n",
      "[Epoch 115] Loss: 0.6693631410598755\n",
      "[Epoch 120] Loss: 0.6684556603431702\n",
      "[Epoch 125] Loss: 0.6675578355789185\n",
      "[Epoch 130] Loss: 0.666669487953186\n",
      "[Epoch 135] Loss: 0.6657905578613281\n",
      "[Epoch 140] Loss: 0.6649207472801208\n",
      "[Epoch 145] Loss: 0.6640600562095642\n",
      "[Epoch 150] Loss: 0.6632082462310791\n",
      "Latent Regressor Accuracy is : 0.7058823529411765\n",
      "INFO:tensorflow:Restoring parameters from ./vae_mode.ckpt\n"
     ]
    }
   ],
   "source": [
    "generated = eps.generate(10,regression_epochs=150,learning_rate=1e-4,regression_index=None,variance=0.1,seed_count=5)"
   ]
  },
  {
   "cell_type": "code",
   "execution_count": 11,
   "metadata": {},
   "outputs": [
    {
     "output_type": "stream",
     "name": "stdout",
     "text": [
      "TRAINIG LATENT SPACE REGRESSOR:\n",
      "[Epoch 5] Loss: 0.69306480884552\n",
      "[Epoch 10] Loss: 0.692961573600769\n",
      "[Epoch 15] Loss: 0.6928582787513733\n",
      "[Epoch 20] Loss: 0.6927548050880432\n",
      "[Epoch 25] Loss: 0.6926514506340027\n",
      "[Epoch 30] Loss: 0.6925481557846069\n",
      "[Epoch 35] Loss: 0.692444920539856\n",
      "[Epoch 40] Loss: 0.6923417448997498\n",
      "[Epoch 45] Loss: 0.6922387480735779\n",
      "[Epoch 50] Loss: 0.6921359300613403\n",
      "[Epoch 55] Loss: 0.6920329332351685\n",
      "[Epoch 60] Loss: 0.6919302344322205\n",
      "[Epoch 65] Loss: 0.6918275952339172\n",
      "[Epoch 70] Loss: 0.6917250752449036\n",
      "[Epoch 75] Loss: 0.6916226744651794\n",
      "[Epoch 80] Loss: 0.6915204524993896\n",
      "[Epoch 85] Loss: 0.6914182305335999\n",
      "[Epoch 90] Loss: 0.6913160681724548\n",
      "[Epoch 95] Loss: 0.6912140846252441\n",
      "[Epoch 100] Loss: 0.691112220287323\n",
      "[Epoch 105] Loss: 0.6910104155540466\n",
      "[Epoch 110] Loss: 0.6909087896347046\n",
      "[Epoch 115] Loss: 0.6908071637153625\n",
      "[Epoch 120] Loss: 0.6907057166099548\n",
      "[Epoch 125] Loss: 0.6906043887138367\n",
      "[Epoch 130] Loss: 0.6905030608177185\n",
      "[Epoch 135] Loss: 0.6904019117355347\n",
      "[Epoch 140] Loss: 0.6903007626533508\n",
      "[Epoch 145] Loss: 0.6901999115943909\n",
      "[Epoch 150] Loss: 0.6900990009307861\n",
      "Latent Regressor Accuracy is : 0.6\n"
     ]
    }
   ],
   "source": [
    "ranks = eps.rank()"
   ]
  },
  {
   "cell_type": "code",
   "execution_count": 13,
   "metadata": {},
   "outputs": [
    {
     "output_type": "execute_result",
     "data": {
      "text/plain": [
       "array([ 97, 157,  37, 183,  31,  78,  19,  35,  82, 121,  95, 151, 134,\n",
       "        63, 106,  61, 110, 156,  74,  72, 141,  36, 213, 144,  21, 131,\n",
       "        67,  42, 221,  96, 249,  83,  24,  15, 127, 167,  58,  17,  27,\n",
       "        20,  14,  28,  56,  41,   4, 154, 222, 193, 152, 191, 100,   3,\n",
       "       207, 166, 245,  98, 165, 215,  75,  40, 181, 218,   8, 180, 241,\n",
       "       268, 216,   2, 229,  68, 116, 232,  89, 113, 227,  11, 185, 266,\n",
       "        12, 254, 175, 198, 259, 271, 169, 176,  13, 238, 261, 177, 171,\n",
       "       187,   7, 190, 112, 236, 225, 186, 201, 269, 217, 246, 104, 125,\n",
       "       101, 235, 178,  29, 161, 248, 189, 265, 206, 237, 199, 126, 209,\n",
       "        53, 251,  34, 196, 159, 250, 188, 123, 257, 136, 138, 226,  32,\n",
       "       264, 242, 258, 179,   5,  57, 102,  10,  30,  25,  18,  88, 203,\n",
       "         6,  47, 274, 139,  54, 164, 155, 149, 173, 224,  77,  59,  60,\n",
       "       122, 145, 170, 148,  73, 172, 146,  33,  46, 130, 129, 150,  76,\n",
       "        43,  86, 220, 132,  81,  94, 192, 202,  62, 111, 277, 214,  65,\n",
       "        64, 278, 204, 135, 239,  79,  85, 233, 168,  50, 128, 262, 212,\n",
       "       243, 147, 107, 275, 210,  51, 253, 184,  45, 194, 228, 143,  71,\n",
       "       244,  87,  44, 117,  80,  52, 247, 118,  69,  38,  99, 105, 200,\n",
       "       234, 163, 158, 208,  55,  90,  93, 160, 114, 108, 255, 142, 219,\n",
       "       272,   1, 119, 140,  91,  92, 256, 195, 153, 211,  49, 252, 223,\n",
       "       273, 109, 120, 124,  66, 137, 267, 230,  48, 182, 240,  22, 133,\n",
       "       263,  84, 197,  39, 270, 276, 231, 260, 205, 115, 162,  70, 103,\n",
       "        23,  16,  26,   9, 174,   0])"
      ]
     },
     "metadata": {},
     "execution_count": 13
    }
   ],
   "source": [
    "ranks"
   ]
  },
  {
   "source": [
    "## Training more layers to increase accuracy"
   ],
   "cell_type": "markdown",
   "metadata": {}
  },
  {
   "cell_type": "code",
   "execution_count": 14,
   "metadata": {},
   "outputs": [
    {
     "output_type": "stream",
     "name": "stdout",
     "text": [
      "TRAINING VARIATIONAL:\n",
      "5.249974417999994\n"
     ]
    }
   ],
   "source": [
    "eps = EPS()\n",
    "tic = time.perf_counter()\n",
    "loss_list = eps.train(data,labels,vae_epochs=150,\n",
    "        learning_rate=1e-4, batch_size = 50,VAE_activation=tf.nn.relu,\n",
    "        normalize=True,vae_address='./vae_mode.ckpt',layers = [150,75,25])\n",
    "toc = time.perf_counter()\n",
    "print(toc-tic)"
   ]
  },
  {
   "cell_type": "code",
   "execution_count": 15,
   "metadata": {},
   "outputs": [
    {
     "output_type": "stream",
     "name": "stdout",
     "text": [
      "TRAINIG LATENT SPACE REGRESSOR:\n",
      "[Epoch 5] Loss: 0.6925792098045349\n",
      "[Epoch 10] Loss: 0.6918715238571167\n",
      "[Epoch 15] Loss: 0.6911664009094238\n",
      "[Epoch 20] Loss: 0.6904640197753906\n",
      "[Epoch 25] Loss: 0.6897644996643066\n",
      "[Epoch 30] Loss: 0.6890678405761719\n",
      "[Epoch 35] Loss: 0.6883742809295654\n",
      "[Epoch 40] Loss: 0.6876837611198425\n",
      "[Epoch 45] Loss: 0.686996340751648\n",
      "[Epoch 50] Loss: 0.6863119602203369\n",
      "[Epoch 55] Loss: 0.685630738735199\n",
      "[Epoch 60] Loss: 0.6849525570869446\n",
      "[Epoch 65] Loss: 0.684277355670929\n",
      "[Epoch 70] Loss: 0.6836053133010864\n",
      "[Epoch 75] Loss: 0.6829361915588379\n",
      "[Epoch 80] Loss: 0.6822700500488281\n",
      "[Epoch 85] Loss: 0.6816068291664124\n",
      "[Epoch 90] Loss: 0.6809467077255249\n",
      "[Epoch 95] Loss: 0.6802893280982971\n",
      "[Epoch 100] Loss: 0.6796347498893738\n",
      "[Epoch 105] Loss: 0.6789830923080444\n",
      "[Epoch 110] Loss: 0.6783342361450195\n",
      "[Epoch 115] Loss: 0.6776881217956543\n",
      "[Epoch 120] Loss: 0.677044689655304\n",
      "[Epoch 125] Loss: 0.6764039993286133\n",
      "[Epoch 130] Loss: 0.6757660508155823\n",
      "[Epoch 135] Loss: 0.6751306056976318\n",
      "[Epoch 140] Loss: 0.6744979023933411\n",
      "[Epoch 145] Loss: 0.6738677024841309\n",
      "[Epoch 150] Loss: 0.6732401847839355\n",
      "Latent Regressor Accuracy is : 0.7205882352941176\n",
      "INFO:tensorflow:Restoring parameters from ./vae_mode.ckpt\n"
     ]
    }
   ],
   "source": [
    "generated = eps.generate(50,regression_epochs=150,learning_rate=1e-4,regression_index=None,variance=0.2,seed_count=1)"
   ]
  },
  {
   "cell_type": "code",
   "execution_count": 16,
   "metadata": {},
   "outputs": [
    {
     "output_type": "stream",
     "name": "stdout",
     "text": [
      "TRAINIG LATENT SPACE REGRESSOR:\n",
      "[Epoch 5] Loss: 0.6930828094482422\n",
      "[Epoch 10] Loss: 0.6930025219917297\n",
      "[Epoch 15] Loss: 0.6929223537445068\n",
      "[Epoch 20] Loss: 0.692842423915863\n",
      "[Epoch 25] Loss: 0.6927624344825745\n",
      "[Epoch 30] Loss: 0.6926826238632202\n",
      "[Epoch 35] Loss: 0.6926030516624451\n",
      "[Epoch 40] Loss: 0.6925236582756042\n",
      "[Epoch 45] Loss: 0.6924443244934082\n",
      "[Epoch 50] Loss: 0.6923651099205017\n",
      "[Epoch 55] Loss: 0.6922860741615295\n",
      "[Epoch 60] Loss: 0.6922071576118469\n",
      "[Epoch 65] Loss: 0.6921284198760986\n",
      "[Epoch 70] Loss: 0.6920498013496399\n",
      "[Epoch 75] Loss: 0.6919713020324707\n",
      "[Epoch 80] Loss: 0.6918929219245911\n",
      "[Epoch 85] Loss: 0.691814661026001\n",
      "[Epoch 90] Loss: 0.6917364597320557\n",
      "[Epoch 95] Loss: 0.6916584968566895\n",
      "[Epoch 100] Loss: 0.6915806531906128\n",
      "[Epoch 105] Loss: 0.6915027499198914\n",
      "[Epoch 110] Loss: 0.6914250254631042\n",
      "[Epoch 115] Loss: 0.6913474798202515\n",
      "[Epoch 120] Loss: 0.6912700533866882\n",
      "[Epoch 125] Loss: 0.6911926865577698\n",
      "[Epoch 130] Loss: 0.6911155581474304\n",
      "[Epoch 135] Loss: 0.6910383701324463\n",
      "[Epoch 140] Loss: 0.6909613013267517\n",
      "[Epoch 145] Loss: 0.6908844113349915\n",
      "[Epoch 150] Loss: 0.6908075213432312\n",
      "Latent Regressor Accuracy is : 0.57\n"
     ]
    }
   ],
   "source": [
    "ranks = eps.rank()"
   ]
  },
  {
   "cell_type": "code",
   "execution_count": 17,
   "metadata": {},
   "outputs": [
    {
     "output_type": "execute_result",
     "data": {
      "text/plain": [
       "array([201, 107, 131, 139,  41,  90,  24,  18, 273, 111,  53, 152, 184,\n",
       "        96, 126,  70, 274,  99, 193, 105,  46, 115, 154, 144,  74, 146,\n",
       "        67,  61, 162, 264,  72, 230,  20,  22, 212, 242, 200, 191,  35,\n",
       "       219, 204, 252, 169, 272, 117, 207, 108, 149, 251, 216, 221, 140,\n",
       "       188,  42, 160,   3, 231, 177, 161, 197, 268, 199, 225, 198,   2,\n",
       "       265, 125, 269, 189, 215, 112, 178, 256, 248,   1, 113,   8, 271,\n",
       "       229, 217,  32,   9, 205, 168, 175,  12, 195, 227, 218, 277,  11,\n",
       "       101, 237, 171, 238, 259,   6, 187, 278, 185, 266, 128, 235,   5,\n",
       "       104, 124, 206, 267, 236, 148, 167, 176,  27, 165, 257,  17,  68,\n",
       "       190, 211,  89,   7, 147,  40,  28, 275, 239, 116,  44,  29,   0,\n",
       "       258, 136,  56, 232,  39,  77, 181, 100, 179, 228, 261, 137, 180,\n",
       "       208,  92,   4,  94, 172,  80,  52,  64, 121,  34, 241, 170, 192,\n",
       "        13, 123, 133, 247,  45, 250, 262,  97,  26, 243,  31, 142, 214,\n",
       "        49,  19, 224, 182,  76,  54,  75, 220,  65,  47,  87,  78,  21,\n",
       "        79, 240, 118, 209,  55, 157,  69, 134,  60,  50, 223,  57, 141,\n",
       "       143, 114, 270, 233, 226,  15,  84, 186, 249, 183, 119, 153,  43,\n",
       "        59, 244,  36,  16,  73, 138,  82, 194, 109, 130, 159,  91, 213,\n",
       "        63, 202, 210, 122,  98, 156, 151, 102,  66, 263, 150, 173, 166,\n",
       "        86, 132, 255,  85, 174,  48,  58, 135, 260, 103,  51, 163,  33,\n",
       "       196, 120, 245,  23, 110,  30,  38,  25, 203,  88, 253, 254, 155,\n",
       "        95, 222, 246, 164,  93, 158,  62, 234,  37, 129,  83, 127, 106,\n",
       "        71,  81, 276,  14,  10, 145])"
      ]
     },
     "metadata": {},
     "execution_count": 17
    }
   ],
   "source": [
    "ranks"
   ]
  },
  {
   "cell_type": "code",
   "execution_count": 18,
   "metadata": {},
   "outputs": [
    {
     "output_type": "stream",
     "name": "stdout",
     "text": [
      "TRAINIG LATENT SPACE REGRESSOR:\n",
      "[Epoch 5] Loss: 0.6925792694091797\n",
      "[Epoch 10] Loss: 0.6918715238571167\n",
      "[Epoch 15] Loss: 0.6911664009094238\n",
      "[Epoch 20] Loss: 0.6904639601707458\n",
      "[Epoch 25] Loss: 0.6897644996643066\n",
      "[Epoch 30] Loss: 0.6890679001808167\n",
      "[Epoch 35] Loss: 0.6883742809295654\n",
      "[Epoch 40] Loss: 0.6876837611198425\n",
      "[Epoch 45] Loss: 0.686996340751648\n",
      "[Epoch 50] Loss: 0.6863119602203369\n",
      "[Epoch 55] Loss: 0.685630738735199\n",
      "[Epoch 60] Loss: 0.6849525570869446\n",
      "[Epoch 65] Loss: 0.684277355670929\n",
      "[Epoch 70] Loss: 0.6836053133010864\n",
      "[Epoch 75] Loss: 0.6829361915588379\n",
      "[Epoch 80] Loss: 0.6822701096534729\n",
      "[Epoch 85] Loss: 0.6816069483757019\n",
      "[Epoch 90] Loss: 0.6809467077255249\n",
      "[Epoch 95] Loss: 0.6802892684936523\n",
      "[Epoch 100] Loss: 0.6796348094940186\n",
      "[Epoch 105] Loss: 0.6789831519126892\n",
      "[Epoch 110] Loss: 0.6783342957496643\n",
      "[Epoch 115] Loss: 0.6776880621910095\n",
      "[Epoch 120] Loss: 0.6770447492599487\n",
      "[Epoch 125] Loss: 0.6764040589332581\n",
      "[Epoch 130] Loss: 0.6757660508155823\n",
      "[Epoch 135] Loss: 0.6751306653022766\n",
      "[Epoch 140] Loss: 0.6744979023933411\n",
      "[Epoch 145] Loss: 0.6738677620887756\n",
      "[Epoch 150] Loss: 0.6732401847839355\n",
      "Latent Regressor Accuracy is : 0.7205882352941176\n",
      "INFO:tensorflow:Restoring parameters from ./vae_mode.ckpt\n"
     ]
    }
   ],
   "source": [
    "generated = eps.generate(10,regression_epochs=150,learning_rate=1e-4,regression_index=None,variance=0.2,seed_count=5)"
   ]
  },
  {
   "cell_type": "code",
   "execution_count": 19,
   "metadata": {},
   "outputs": [
    {
     "output_type": "stream",
     "name": "stdout",
     "text": [
      "TRAINIG LATENT SPACE REGRESSOR:\n",
      "[Epoch 5] Loss: 0.6931030750274658\n",
      "[Epoch 10] Loss: 0.6930481195449829\n",
      "[Epoch 15] Loss: 0.6929928660392761\n",
      "[Epoch 20] Loss: 0.6929377913475037\n",
      "[Epoch 25] Loss: 0.6928828358650208\n",
      "[Epoch 30] Loss: 0.6928280591964722\n",
      "[Epoch 35] Loss: 0.6927734613418579\n",
      "[Epoch 40] Loss: 0.6927189826965332\n",
      "[Epoch 45] Loss: 0.6926648020744324\n",
      "[Epoch 50] Loss: 0.6926106214523315\n",
      "[Epoch 55] Loss: 0.6925566792488098\n",
      "[Epoch 60] Loss: 0.6925029754638672\n",
      "[Epoch 65] Loss: 0.6924493312835693\n",
      "[Epoch 70] Loss: 0.6923961043357849\n",
      "[Epoch 75] Loss: 0.6923429369926453\n",
      "[Epoch 80] Loss: 0.6922898888587952\n",
      "[Epoch 85] Loss: 0.6922370791435242\n",
      "[Epoch 90] Loss: 0.6921843886375427\n",
      "[Epoch 95] Loss: 0.6921320557594299\n",
      "[Epoch 100] Loss: 0.6920796036720276\n",
      "[Epoch 105] Loss: 0.6920274496078491\n",
      "[Epoch 110] Loss: 0.6919754147529602\n",
      "[Epoch 115] Loss: 0.6919236779212952\n",
      "[Epoch 120] Loss: 0.6918719410896301\n",
      "[Epoch 125] Loss: 0.6918204426765442\n",
      "[Epoch 130] Loss: 0.6917691230773926\n",
      "[Epoch 135] Loss: 0.6917177438735962\n",
      "[Epoch 140] Loss: 0.6916666626930237\n",
      "[Epoch 145] Loss: 0.6916157603263855\n",
      "[Epoch 150] Loss: 0.6915649175643921\n",
      "Latent Regressor Accuracy is : 0.59\n"
     ]
    }
   ],
   "source": [
    "ranks = eps.rank()"
   ]
  },
  {
   "cell_type": "code",
   "execution_count": 20,
   "metadata": {},
   "outputs": [
    {
     "output_type": "execute_result",
     "data": {
      "text/plain": [
       "array([ 59, 174, 221, 219,  88, 189,   3,  56, 134, 179, 140,  64, 265,\n",
       "        44,  53,  29, 198, 246, 196,   1,  39, 235, 209, 176, 241, 218,\n",
       "       195, 216,   5, 215, 186, 190, 206,  13, 168, 178, 259,   2, 256,\n",
       "       217, 266, 187,  32, 169, 237, 165, 236,   8,  12, 197, 175, 247,\n",
       "         6, 271, 229, 208, 245, 188, 222, 248, 124,  10, 232, 152,  68,\n",
       "       268, 276, 170, 166, 261, 137, 225, 149, 252,  20, 113, 180, 104,\n",
       "       239, 277, 231, 258, 181, 171,  16,  42, 116, 147, 185, 136, 270,\n",
       "       159, 275, 251,  89, 125,  11,  75,  14,  62,  22,  90, 117, 182,\n",
       "       211,  36,  21, 157,  98, 100,  34,  77,  41,  65, 123, 220,   7,\n",
       "        52, 201, 122, 135, 193,  26, 183, 161,  15, 191, 278,  70,  58,\n",
       "       272, 177,  66,  83,  95,   4, 274,  33, 253,  17, 110,  47, 106,\n",
       "        61,  72,   9, 128, 129, 223, 156, 153, 108,  25, 101,  54,  48,\n",
       "        57, 227, 203, 138,  87, 262,  63, 213, 233, 142,  93, 167,  71,\n",
       "       243,  67,  37, 210, 212, 150,  38, 162,  80, 119,  51, 103,  27,\n",
       "       112, 194,  43, 264, 238, 115,  19,  74, 199, 127, 111,  78, 132,\n",
       "        96, 109, 120, 107, 145,  60, 249,  40,  73,  23, 226, 184, 234,\n",
       "       163,  81, 204,  30,  45,  99, 105,  97,  18,  28, 164,  46, 200,\n",
       "       273, 158,  79,  49, 114,  31, 131, 130,  24, 263,  35,  69, 267,\n",
       "       102,   0,  50,  86,  55, 144, 139, 205, 151, 224, 257, 148,  94,\n",
       "       118, 141,  92, 172, 192,  91, 126,  85, 255, 155, 173, 154, 202,\n",
       "       121, 244, 228, 254, 242, 214, 207, 143, 230, 269, 146,  84,  76,\n",
       "       240, 260,  82, 133, 160, 250])"
      ]
     },
     "metadata": {},
     "execution_count": 20
    }
   ],
   "source": [
    "ranks"
   ]
  },
  {
   "cell_type": "code",
   "execution_count": 21,
   "metadata": {},
   "outputs": [
    {
     "output_type": "stream",
     "name": "stdout",
     "text": [
      "TRAINING VARIATIONAL:\n",
      "4.426886228000001\n"
     ]
    }
   ],
   "source": [
    "eps = EPS()\n",
    "tic = time.perf_counter()\n",
    "loss_list = eps.train(data,labels,vae_epochs=100,\n",
    "        learning_rate=1e-4, batch_size = 50,VAE_activation=tf.nn.relu,\n",
    "        normalize=True,vae_address='./vae_mode.ckpt',layers = [150,75,25,10])\n",
    "toc = time.perf_counter()\n",
    "print(toc-tic)"
   ]
  },
  {
   "cell_type": "code",
   "execution_count": 23,
   "metadata": {},
   "outputs": [
    {
     "output_type": "stream",
     "name": "stdout",
     "text": [
      "TRAINIG LATENT SPACE REGRESSOR:\n",
      "[Epoch 5] Loss: 0.6866021752357483\n",
      "[Epoch 10] Loss: 0.6789166927337646\n",
      "[Epoch 15] Loss: 0.6718106865882874\n",
      "[Epoch 20] Loss: 0.6653009057044983\n",
      "[Epoch 25] Loss: 0.6593886017799377\n",
      "[Epoch 30] Loss: 0.6540595889091492\n",
      "[Epoch 35] Loss: 0.6492867469787598\n",
      "[Epoch 40] Loss: 0.6450327634811401\n",
      "[Epoch 45] Loss: 0.6412523984909058\n",
      "[Epoch 50] Loss: 0.6378965973854065\n",
      "[Epoch 55] Loss: 0.6349146366119385\n",
      "[Epoch 60] Loss: 0.6322562098503113\n",
      "[Epoch 65] Loss: 0.6298738121986389\n",
      "[Epoch 70] Loss: 0.6277236342430115\n",
      "[Epoch 75] Loss: 0.6257665157318115\n",
      "[Epoch 80] Loss: 0.6239685416221619\n",
      "[Epoch 85] Loss: 0.6223005652427673\n",
      "[Epoch 90] Loss: 0.6207387447357178\n",
      "[Epoch 95] Loss: 0.6192638278007507\n",
      "[Epoch 100] Loss: 0.6178601384162903\n",
      "[Epoch 105] Loss: 0.6165157556533813\n",
      "[Epoch 110] Loss: 0.615221381187439\n",
      "[Epoch 115] Loss: 0.6139699220657349\n",
      "[Epoch 120] Loss: 0.6127561926841736\n",
      "[Epoch 125] Loss: 0.6115761995315552\n",
      "[Epoch 130] Loss: 0.6104270815849304\n",
      "[Epoch 135] Loss: 0.6093066930770874\n",
      "[Epoch 140] Loss: 0.608213484287262\n",
      "[Epoch 145] Loss: 0.6071459650993347\n",
      "[Epoch 150] Loss: 0.6061034798622131\n",
      "Latent Regressor Accuracy is : 0.7205882352941176\n",
      "INFO:tensorflow:Restoring parameters from ./vae_mode.ckpt\n"
     ]
    }
   ],
   "source": [
    "generated = eps.generate(10,regression_epochs=150,learning_rate=1e-3,regression_index=None,variance=0.2,seed_count=5)"
   ]
  },
  {
   "cell_type": "code",
   "execution_count": 24,
   "metadata": {},
   "outputs": [
    {
     "output_type": "stream",
     "name": "stdout",
     "text": [
      "TRAINIG LATENT SPACE REGRESSOR:\n",
      "[Epoch 5] Loss: 0.6930398344993591\n",
      "[Epoch 10] Loss: 0.692903459072113\n",
      "[Epoch 15] Loss: 0.6927211284637451\n",
      "[Epoch 20] Loss: 0.6925735473632812\n",
      "[Epoch 25] Loss: 0.6924291849136353\n",
      "[Epoch 30] Loss: 0.6922733187675476\n",
      "[Epoch 35] Loss: 0.6921130418777466\n",
      "[Epoch 40] Loss: 0.6919564008712769\n",
      "[Epoch 45] Loss: 0.6917979717254639\n",
      "[Epoch 50] Loss: 0.6916361451148987\n",
      "[Epoch 55] Loss: 0.6914745569229126\n",
      "[Epoch 60] Loss: 0.691310703754425\n",
      "[Epoch 65] Loss: 0.6911459565162659\n",
      "[Epoch 70] Loss: 0.6909795999526978\n",
      "[Epoch 75] Loss: 0.6908124685287476\n",
      "[Epoch 80] Loss: 0.6906442046165466\n",
      "[Epoch 85] Loss: 0.6904752850532532\n",
      "[Epoch 90] Loss: 0.6903056502342224\n",
      "[Epoch 95] Loss: 0.690135657787323\n",
      "[Epoch 100] Loss: 0.6899651885032654\n",
      "[Epoch 105] Loss: 0.6897945404052734\n",
      "[Epoch 110] Loss: 0.6896238923072815\n",
      "[Epoch 115] Loss: 0.6894530653953552\n",
      "[Epoch 120] Loss: 0.6892823576927185\n",
      "[Epoch 125] Loss: 0.6891119480133057\n",
      "[Epoch 130] Loss: 0.6889417767524719\n",
      "[Epoch 135] Loss: 0.6887719035148621\n",
      "[Epoch 140] Loss: 0.6886023879051208\n",
      "[Epoch 145] Loss: 0.6884334087371826\n",
      "[Epoch 150] Loss: 0.688264787197113\n",
      "Latent Regressor Accuracy is : 0.66\n"
     ]
    }
   ],
   "source": [
    "ranks = eps.rank()"
   ]
  },
  {
   "cell_type": "code",
   "execution_count": 25,
   "metadata": {},
   "outputs": [
    {
     "output_type": "execute_result",
     "data": {
      "text/plain": [
       "array([ 43, 221, 213, 264,  78, 119,  46,  23,  94, 146, 153,  93,  68,\n",
       "       139,  38,  21,  72,  57,  42,  59,  58, 106,  22, 164,  85, 231,\n",
       "       173, 123,  49,  61, 133,  19,  37,  96, 171, 102,  56,  67, 118,\n",
       "        66, 156, 129, 127, 151,  48, 145, 109, 273,  87,  83,  33, 203,\n",
       "       168,  29, 148,  75, 154,  74, 107, 141, 144, 261,  45, 183,  90,\n",
       "       111, 194,  62, 143, 163,  47,  84,  25, 116,  71,  27, 253, 234,\n",
       "       241, 263, 227,  64,  77, 233, 157, 189, 132,  34, 100,  70,  26,\n",
       "        24,  97, 147,  55,  88,  30, 246, 267,  69,  99, 105, 113,  76,\n",
       "        95, 169, 265,  79, 278, 103, 243,  17, 266, 215, 117, 152, 176,\n",
       "       126,   1,  36, 201, 115,  82,  54,   3, 101,  44, 257, 155,  39,\n",
       "        98,  28,   4,  89,  73, 142, 108,  20, 249, 175,   6, 238, 181,\n",
       "       226,  50, 138, 229,  53, 140, 136, 128, 135, 205, 184, 177,  15,\n",
       "        81, 239, 204,  65,  35, 193, 174, 150, 209, 208,  51, 232, 104,\n",
       "         0,  63,  10, 195,  31,  80, 178, 218,  40, 236,  60, 161, 274,\n",
       "       255, 196,  14,   9, 149, 120,   7, 212,  91, 222, 277,  11, 271,\n",
       "       262, 202, 191, 216, 186, 167, 110, 130, 276,   8, 165, 179, 187,\n",
       "       158, 137, 121, 211, 259, 268, 125,  92, 190, 159, 112, 258,  18,\n",
       "        16, 192, 223, 122, 235, 197, 114, 200, 170,  52, 228, 269,   2,\n",
       "        32, 199, 275, 198, 207, 131, 210, 180, 237, 245, 162, 260, 160,\n",
       "       166, 230, 248, 182,  86, 172, 242, 256, 252, 124,  13, 251, 250,\n",
       "         5, 272, 217, 244, 185, 225, 188, 254,  41, 214, 247, 270, 219,\n",
       "       206, 220,  12, 240, 134, 224])"
      ]
     },
     "metadata": {},
     "execution_count": 25
    }
   ],
   "source": [
    "ranks"
   ]
  },
  {
   "cell_type": "code",
   "execution_count": null,
   "metadata": {},
   "outputs": [],
   "source": []
  }
 ],
 "metadata": {
  "kernelspec": {
   "display_name": "Python 3",
   "language": "python",
   "name": "python3"
  },
  "language_info": {
   "codemirror_mode": {
    "name": "ipython",
    "version": 3
   },
   "file_extension": ".py",
   "mimetype": "text/x-python",
   "name": "python",
   "nbconvert_exporter": "python",
   "pygments_lexer": "ipython3",
   "version": "3.7.3-final"
  }
 },
 "nbformat": 4,
 "nbformat_minor": 2
}